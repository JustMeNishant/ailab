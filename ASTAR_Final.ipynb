{
 "cells": [
  {
   "cell_type": "code",
   "execution_count": 1,
   "id": "discrete-excuse",
   "metadata": {},
   "outputs": [],
   "source": [
    "class Graph:\n",
    "    def __init__(self, adjac_lis):\n",
    "        self.adjac_lis = adjac_lis\n",
    " \n",
    "    def get_neighbors(self, v):\n",
    "        return self.adjac_lis[v]\n",
    "    def h(self, n):\n",
    "        H = {\n",
    "            'S': 14,\n",
    "            'B': 12,\n",
    "            'C': 11,\n",
    "            'D': 6,\n",
    "            'E': 4,\n",
    "            'F': 11,\n",
    "            'G': 10\n",
    "        }\n",
    "        return H[n]\n",
    " \n",
    "    def a_star_algorithm(self, start, stop):\n",
    "        open_lst = set([start])\n",
    "        closed_lst = set([])\n",
    " \n",
    "        # poo has present distances from start to all other nodes with heuristics\n",
    "        # the default value is +infinity\n",
    "        poo = {}\n",
    "        poo[start] = 0\n",
    " \n",
    "        org = {}\n",
    "        org[start] = 0\n",
    "        \n",
    "        # par contains an adjac mapping of all nodes\n",
    "        par = {}\n",
    "        par[start] = start\n",
    "       \n",
    "        while len(open_lst) > 0:\n",
    "            n = None\n",
    "            for v in open_lst:\n",
    "                if n == None or org[v] + self.h(v) < org[n] + self.h(n):\n",
    "                    n = v    #n=b v=c,D\n",
    "                    #print(n)\n",
    " \n",
    "            if n == None:\n",
    "                print('Path does not exist!')\n",
    "                return None\n",
    " \n",
    "            # if the current node is the stop\n",
    "            # then we start again from start\n",
    "            if n == stop:\n",
    "                reconst_path = []\n",
    " \n",
    "                while par[n] != n:\n",
    "                    reconst_path.append(n)\n",
    "                    n = par[n]\n",
    "                    print(n)\n",
    " \n",
    "                reconst_path.append(start)\n",
    " \n",
    "                reconst_path.reverse()\n",
    " \n",
    "                print('Path found: {}'.format(reconst_path))\n",
    "                return reconst_path\n",
    " \n",
    "            # for all the neighbors of the current node do\n",
    "            for (m, weight) in self.get_neighbors(n):\n",
    "                if m not in open_lst and m not in closed_lst:\n",
    "                    open_lst.add(m)\n",
    "                    par[m] = n\n",
    "                    poo[m] = org[n] + weight + self.h(m)\n",
    "                    org[m] = org[n] + weight\n",
    "                # otherwise, check if it's quicker to first visit n, then m\n",
    "                # and if it is, update par data and poo data\n",
    "                # and if the node was in the closed_lst, move it to open_lst\n",
    "                else:\n",
    "                    if poo[m] > org[n] + weight + self.h(m):\n",
    "                        poo[m] = org[n] + weight + self.h(m)\n",
    "                        par[m] = n   #check the path cost if costlier take back m to n i.e look for alternate path by going to previous node\n",
    " \n",
    "                        if m in closed_lst:\n",
    "                            closed_lst.remove(m)\n",
    "                            open_lst.add(m)\n",
    "            # remove n from the open_lst, and add it to closed_lst\n",
    "            # because all of his neighbors were inspected\n",
    "            open_lst.remove(n)\n",
    "            closed_lst.add(n)\n",
    " \n",
    "        print('Path does not exist!')\n",
    "        return None"
   ]
  },
  {
   "cell_type": "code",
   "execution_count": 2,
   "id": "unlikely-harvey",
   "metadata": {},
   "outputs": [
    {
     "name": "stdout",
     "output_type": "stream",
     "text": [
      "E\n",
      "D\n",
      "C\n",
      "S\n",
      "Path found: ['S', 'C', 'D', 'E', 'G']\n"
     ]
    },
    {
     "data": {
      "text/plain": [
       "['S', 'C', 'D', 'E', 'G']"
      ]
     },
     "execution_count": 2,
     "metadata": {},
     "output_type": "execute_result"
    }
   ],
   "source": [
    "adjac_lis = {\n",
    "    'S': [('B', 4), ('C', 3)],\n",
    "    'B': [('F', 5), ('E', 12)],\n",
    "    'C': [('D', 7), ('E', 10)],\n",
    "    'D': [('E', 2)],\n",
    "    'E': [('G', 5)],\n",
    "    'F': [('G', 16)]\n",
    "}\n",
    "graph1 = Graph(adjac_lis)\n",
    "graph1.a_star_algorithm('S', 'G')"
   ]
  },
  {
   "cell_type": "code",
   "execution_count": 3,
   "id": "specific-garage",
   "metadata": {},
   "outputs": [
    {
     "name": "stdout",
     "output_type": "stream",
     "text": [
      "E\n",
      "B\n",
      "Path found: ['B', 'E', 'G']\n"
     ]
    },
    {
     "data": {
      "text/plain": [
       "['B', 'E', 'G']"
      ]
     },
     "execution_count": 3,
     "metadata": {},
     "output_type": "execute_result"
    }
   ],
   "source": [
    "adjac_lis = {\n",
    "    'S': [('B', 4), ('C', 3)],\n",
    "    'B': [('F', 5), ('E', 12)],\n",
    "    'C': [('D', 7), ('E', 10)],\n",
    "    'D': [('E', 2)],\n",
    "    'E': [('G', 5)],\n",
    "    'F': [('G', 16)]\n",
    "}\n",
    "graph1 = Graph(adjac_lis)\n",
    "graph1.a_star_algorithm('B', 'G')"
   ]
  },
  {
   "cell_type": "code",
   "execution_count": null,
   "id": "based-minneapolis",
   "metadata": {},
   "outputs": [],
   "source": []
  }
 ],
 "metadata": {
  "kernelspec": {
   "display_name": "Python 3",
   "language": "python",
   "name": "python3"
  },
  "language_info": {
   "codemirror_mode": {
    "name": "ipython",
    "version": 3
   },
   "file_extension": ".py",
   "mimetype": "text/x-python",
   "name": "python",
   "nbconvert_exporter": "python",
   "pygments_lexer": "ipython3",
   "version": "3.8.5"
  }
 },
 "nbformat": 4,
 "nbformat_minor": 5
}
