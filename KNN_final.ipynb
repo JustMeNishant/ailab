{
 "cells": [
  {
   "cell_type": "code",
   "execution_count": 1,
   "id": "ideal-queue",
   "metadata": {},
   "outputs": [
    {
     "name": "stdout",
     "output_type": "stream",
     "text": [
      "Size of Iris dataset :  (150, 4)\n",
      "Size of Iris dataset :  (150,)\n",
      "Size of Train dataset :  (105, 4)\n",
      "Size of Train targets :  (105,)\n",
      "Size of Test dataset :  (45, 4)\n",
      "Size of Test targets :  (45,)\n",
      "[0 0 1 0 1 2 0 2 0 1 2 0 2 0 1 2 0 2 2 1 2 2 1 2 2 1 1 2 1 0 2 1 1 2 1 2 0\n",
      " 0 0 0 2 1 2 1 2]\n",
      "Training accuracy Score is :  0.9904761904761905\n",
      "Testing accuracy Score is :  0.9333333333333333\n",
      "Training Confusion Matrix is : \n",
      " [[37  0  0]\n",
      " [ 0 35  0]\n",
      " [ 0  1 32]]\n",
      "Testing Confusion Matrix is : \n",
      " [[13  0  0]\n",
      " [ 0 13  2]\n",
      " [ 0  1 16]]\n"
     ]
    }
   ],
   "source": [
    "import numpy as np\n",
    "import pandas as pd\n",
    "import matplotlib.pyplot as plt\n",
    "from sklearn.datasets import load_iris\n",
    "from sklearn.neighbors import KNeighborsClassifier\n",
    "from sklearn.model_selection import train_test_split\n",
    "from sklearn.metrics import accuracy_score, confusion_matrix\n",
    "\n",
    "iris = load_iris()\n",
    "x = iris.data\n",
    "y = iris.target\n",
    "print('Size of Iris dataset : ', x.shape)\n",
    "print('Size of Iris dataset : ', y.shape)\n",
    "\n",
    "x_train, x_test, y_train, y_test = train_test_split(x, y, test_size = 0.3)\n",
    "\n",
    "print('Size of Train dataset : ', x_train.shape)\n",
    "print('Size of Train targets : ', y_train.shape)\n",
    "print('Size of Test dataset : ', x_test.shape)\n",
    "print('Size of Test targets : ', y_test.shape)\n",
    "\n",
    "knn_model = KNeighborsClassifier(n_neighbors=5)\n",
    "knn_model.fit(x_train, y_train)\n",
    "predictions = knn_model.predict(x_test)\n",
    "print(predictions)\n",
    "\n",
    "print(\"Training accuracy Score is : \", accuracy_score(y_train, knn_model.predict(x_train)))\n",
    "print(\"Testing accuracy Score is : \", accuracy_score(y_test, knn_model.predict(x_test)))\n",
    "print(\"Training Confusion Matrix is : \\n\", confusion_matrix(y_train, knn_model.predict(x_train)))\n",
    "print(\"Testing Confusion Matrix is : \\n\", confusion_matrix(y_test, knn_model.predict(x_test)))"
   ]
  },
  {
   "cell_type": "code",
   "execution_count": null,
   "id": "polyphonic-preference",
   "metadata": {},
   "outputs": [],
   "source": []
  }
 ],
 "metadata": {
  "kernelspec": {
   "display_name": "Python 3",
   "language": "python",
   "name": "python3"
  },
  "language_info": {
   "codemirror_mode": {
    "name": "ipython",
    "version": 3
   },
   "file_extension": ".py",
   "mimetype": "text/x-python",
   "name": "python",
   "nbconvert_exporter": "python",
   "pygments_lexer": "ipython3",
   "version": "3.8.5"
  }
 },
 "nbformat": 4,
 "nbformat_minor": 5
}
